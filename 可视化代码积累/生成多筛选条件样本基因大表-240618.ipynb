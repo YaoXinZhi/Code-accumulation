{
 "cells": [
  {
   "cell_type": "code",
   "execution_count": 40,
   "id": "d0252658",
   "metadata": {},
   "outputs": [],
   "source": [
    "\n",
    "import os\n",
    "\n",
    "import csv\n",
    "\n",
    "from collections import defaultdict"
   ]
  },
  {
   "cell_type": "code",
   "execution_count": 41,
   "id": "7697c533",
   "metadata": {},
   "outputs": [],
   "source": [
    "def gene_element_process(gene_element):\n",
    "    \n",
    "    # return a list\n",
    "    gene_set = list()\n",
    "    for gene1 in gene_element.split(', '):\n",
    "        for gene2 in gene1.split('，'):\n",
    "            for gene3 in gene2.split(','):\n",
    "                for gene4 in gene3.split('。'):\n",
    "                    gene_set.append(gene4)\n",
    "    #print(gene.split(','))\n",
    "    return gene_set"
   ]
  },
  {
   "cell_type": "code",
   "execution_count": 42,
   "id": "1c531731",
   "metadata": {},
   "outputs": [
    {
     "data": {
      "text/plain": [
       "'/mnt/disk1/xzyao/Bacteria/小胖临时数据_240618'"
      ]
     },
     "execution_count": 42,
     "metadata": {},
     "output_type": "execute_result"
    }
   ],
   "source": [
    "os.getcwd()"
   ]
  },
  {
   "cell_type": "code",
   "execution_count": 43,
   "id": "44df4efd",
   "metadata": {},
   "outputs": [],
   "source": [
    "#base_path = '/Users/yao/Nutstore Files/Mac2PC/Huang-Bacteria/最终结果整理/PZ_new'\n",
    "#base_path = '../'\n",
    "#total_file = f'{base_path}/KP2809样本信息最正确.txt'\n",
    "\n",
    "#total_file= f'../最终结果整理/biosample.txt'\n",
    "total_file= f'biosample.txt'\n",
    "\n",
    "total_file= f'biosample-20240618.txt'"
   ]
  },
  {
   "cell_type": "code",
   "execution_count": null,
   "id": "4664e9f7",
   "metadata": {},
   "outputs": [],
   "source": []
  },
  {
   "cell_type": "code",
   "execution_count": 44,
   "id": "533de0bf",
   "metadata": {},
   "outputs": [],
   "source": [
    "#base_path = '/Users/yao/Nutstore Files/Mac2PC/Huang-Bacteria/最终结果整理/PZ_new'\n",
    "#base_path = '../最终结果整理/PZ_new'\n",
    "#total_file = f'{base_path}/KP2809样本信息最正确.txt'\n",
    "\n",
    "def read_total_file(total_file: str):\n",
    "    \n",
    "    sample_to_baps = {}\n",
    "    sample_to_mlst = {}\n",
    "    \n",
    "    sample_to_chain_year = {}\n",
    "    sample_to_europ_year = {}\n",
    "    sample_to_usa_year = {}\n",
    "\n",
    "    \n",
    "    sample_to_year = {}\n",
    "    sample_to_country = {}\n",
    "    sample_to_host = {}\n",
    "    \n",
    "    sample_to_cg = {}\n",
    "    sample_to_mlstt = {}\n",
    "    \n",
    "    sample_to_vf_gene = defaultdict(set)\n",
    "    sample_to_pla_gene = defaultdict(set)\n",
    "    sample_to_res_gene = defaultdict(set)\n",
    "    \n",
    "    total_sample_set = set()\n",
    "    \n",
    "    total_vf_gene_set = set()\n",
    "    total_pla_gene_set = set()\n",
    "    total_res_gene_set = set()\n",
    "    \n",
    "    china_vf_gene_set = set()\n",
    "    china_pla_gene_set = set()\n",
    "    china_res_gene_set = set()\n",
    "\n",
    "    eroup_vf_gene_set = set()\n",
    "    eroup_pla_gene_set = set()\n",
    "    eroup_res_gene_set = set()\n",
    "\n",
    "    usa_vf_gene_set = set()\n",
    "    usa_pla_gene_set = set()\n",
    "    usa_res_gene_set = set()\n",
    "    \n",
    "    other_vf_gene_set = set()\n",
    "    other_pla_gene_set = set()\n",
    "    other_res_gene_set = set()\n",
    "\n",
    "\n",
    "    \n",
    "    #with open(total_file, 'r', encoding='utf-8') as f:\n",
    "    with open(total_file, 'r') as f:\n",
    "        \n",
    "        reader = csv.reader(f, delimiter='\\t')\n",
    "\n",
    "        # 读取抬头行，获取列名\n",
    "        header = next(reader)\n",
    "        \n",
    "        sample_col = header.index('GCF')\n",
    "        \n",
    "        baps_col = header.index('BAPA')\n",
    "        # baps_col = header.index('fastbaps')\n",
    "        \n",
    "        mlst_col = header.index('MLST')\n",
    "        \n",
    "                \n",
    "        china_year_col = header.index('Year-china')\n",
    "        europ_year_col = header.index('Year-europ')\n",
    "        usa_year_col = header.index('Year-usa')\n",
    "        \n",
    "        \n",
    "        vf_gene_col = header.index('VFDB-Gene')\n",
    "        pla_gene_col = header.index('Plasmid-Gene')\n",
    "        res_gene_col = header.index('Resfiner-Gene')\n",
    "        \n",
    "        year_col = header.index('TIME-total')\n",
    "        country_col = header.index('REGION')\n",
    "\n",
    "        \n",
    "        host_col = header.index('HOST')\n",
    "        \n",
    "        #cg_col = header.index('CG')\n",
    "        #mlstt_col = header.index('MLSTT')\n",
    "        \n",
    "        \n",
    "        #year_col = header.index('year-total')\n",
    "\n",
    "\n",
    "        # 逐行读取数据并将其添加到对应的列列表中\n",
    "        for row in reader:\n",
    "            # read data\n",
    "            sample = row[sample_col]\n",
    "            \n",
    "            if not sample:\n",
    "                continue\n",
    "            \n",
    "            \n",
    "            baps = row[baps_col]\n",
    "            mlst = row[mlst_col]\n",
    "            \n",
    "            chain_year = row[china_year_col]\n",
    "            europ_year = row[europ_year_col]\n",
    "            usa_year = row[usa_year_col]\n",
    "            \n",
    "            #cg = row[cg_col]\n",
    "            #mlstt = row[mlstt_col]\n",
    "            \n",
    "            year = row[year_col]\n",
    "            country = row[country_col]\n",
    "            \n",
    "            host = row[host_col]\n",
    "            \n",
    "            # actury is gene list for save repeat\n",
    "            vf_gene_set = gene_element_process(row[vf_gene_col])\n",
    "            pla_gene_set = gene_element_process(row[pla_gene_col])\n",
    "            res_gene_set = gene_element_process(row[res_gene_col])\n",
    "            \n",
    "\n",
    "            \n",
    "            if country == 'China':\n",
    "                china_vf_gene_set.update(vf_gene_set)\n",
    "                china_pla_gene_set.update(pla_gene_set)\n",
    "                china_res_gene_set.update(res_gene_set)\n",
    "            elif country == 'Europ':\n",
    "                eroup_vf_gene_set.update(vf_gene_set)\n",
    "                eroup_pla_gene_set.update(pla_gene_set)\n",
    "                eroup_res_gene_set.update(res_gene_set)\n",
    "            elif country == 'USA':\n",
    "                usa_vf_gene_set.update(vf_gene_set)\n",
    "                usa_pla_gene_set.update(pla_gene_set)\n",
    "                usa_res_gene_set.update(res_gene_set)\n",
    "            elif country == 'Others':\n",
    "                other_vf_gene_set.update(vf_gene_set)\n",
    "                other_pla_gene_set.update(pla_gene_set)\n",
    "                other_res_gene_set.update(res_gene_set)\n",
    "\n",
    "            \n",
    "            # save in to memory\n",
    "            sample_to_baps[sample] = baps\n",
    "            sample_to_mlst[sample] = mlst\n",
    "\n",
    "            sample_to_chain_year[sample] = chain_year\n",
    "            sample_to_europ_year[sample] = europ_year\n",
    "            sample_to_usa_year[sample] = usa_year\n",
    "\n",
    "            sample_to_year[sample] = year\n",
    "            sample_to_country[sample] = country\n",
    "            sample_to_host[sample] = host\n",
    "            \n",
    "            #sample_to_cg[sample] = cg\n",
    "            #sample_to_mlstt[sample] = mlstt\n",
    "\n",
    "            sample_to_vf_gene[sample] = vf_gene_set\n",
    "            sample_to_pla_gene[sample] = pla_gene_set\n",
    "            sample_to_res_gene[sample] = res_gene_set\n",
    "            \n",
    "            total_sample_set.add(sample)\n",
    "\n",
    "            total_vf_gene_set.update(vf_gene_set)\n",
    "            total_pla_gene_set.update(pla_gene_set)\n",
    "            total_res_gene_set.update(res_gene_set)\n",
    "    print('read done.')\n",
    "    return sample_to_baps, sample_to_mlst, sample_to_chain_year, \\\n",
    "            sample_to_europ_year, sample_to_usa_year, \\\n",
    "            sample_to_cg, sample_to_mlstt,\\\n",
    "            sample_to_year, sample_to_country, sample_to_host, \\\n",
    "            sample_to_vf_gene, sample_to_pla_gene, sample_to_res_gene, \\\n",
    "            total_vf_gene_set, total_pla_gene_set, total_res_gene_set, \\\n",
    "            total_sample_set, china_vf_gene_set, china_pla_gene_set, \\\n",
    "            china_res_gene_set, eroup_vf_gene_set, eroup_pla_gene_set, \\\n",
    "            eroup_res_gene_set, usa_vf_gene_set, usa_pla_gene_set, \\\n",
    "            usa_res_gene_set, other_vf_gene_set, other_pla_gene_set, other_res_gene_set\n",
    "\n"
   ]
  },
  {
   "cell_type": "code",
   "execution_count": 45,
   "id": "30b03f97",
   "metadata": {},
   "outputs": [
    {
     "name": "stdout",
     "output_type": "stream",
     "text": [
      "read done.\n"
     ]
    }
   ],
   "source": [
    "sample_to_baps, sample_to_mlst, sample_to_chain_year, \\\n",
    "            sample_to_europ_year, sample_to_usa_year, \\\n",
    "            sample_to_cg, sample_to_mlstt,\\\n",
    "            sample_to_year, sample_to_country, sample_to_host, \\\n",
    "            sample_to_vf_gene, sample_to_pla_gene, sample_to_res_gene, \\\n",
    "            total_vf_gene_set, total_pla_gene_set, total_res_gene_set, \\\n",
    "            total_sample_set, china_vf_gene_set, china_pla_gene_set, \\\n",
    "            china_res_gene_set, eroup_vf_gene_set, eroup_pla_gene_set, \\\n",
    "            eroup_res_gene_set, usa_vf_gene_set, usa_pla_gene_set, \\\n",
    "            usa_res_gene_set, other_vf_gene_set, other_pla_gene_set, other_res_gene_set   = read_total_file(total_file)"
   ]
  },
  {
   "cell_type": "code",
   "execution_count": null,
   "id": "50c080fb",
   "metadata": {},
   "outputs": [],
   "source": []
  },
  {
   "cell_type": "code",
   "execution_count": null,
   "id": "f967a21f",
   "metadata": {},
   "outputs": [],
   "source": []
  },
  {
   "cell_type": "code",
   "execution_count": null,
   "id": "d30cdeef",
   "metadata": {},
   "outputs": [],
   "source": []
  },
  {
   "cell_type": "code",
   "execution_count": 46,
   "id": "1c807527",
   "metadata": {},
   "outputs": [],
   "source": [
    "# 上面的代码麻烦你的小猪手不要动"
   ]
  },
  {
   "cell_type": "code",
   "execution_count": 47,
   "id": "ae696ef3",
   "metadata": {},
   "outputs": [],
   "source": [
    "# 上面的代码麻烦你的小小猪手不要动"
   ]
  },
  {
   "cell_type": "code",
   "execution_count": 48,
   "id": "eab83077",
   "metadata": {},
   "outputs": [],
   "source": [
    "# 上面的代码麻烦你的小小小猪手不要动"
   ]
  },
  {
   "cell_type": "code",
   "execution_count": 49,
   "id": "70b08c62",
   "metadata": {},
   "outputs": [],
   "source": [
    "# 上面的代码麻烦你的小小小小猪手不要动"
   ]
  },
  {
   "cell_type": "code",
   "execution_count": 50,
   "id": "547d91a5",
   "metadata": {},
   "outputs": [],
   "source": [
    "# 上面的代码麻烦你的小小小小小猪手不要动"
   ]
  },
  {
   "cell_type": "code",
   "execution_count": 51,
   "id": "e80af068",
   "metadata": {},
   "outputs": [],
   "source": [
    "# 只操作下面的代码\n",
    "# xuanzhongyigegezi\n",
    "# 选中一个格子\n",
    "# shift + 回车运行\n",
    "# 或者前上面的 > 运行\n",
    "# 按着shift+回车 就可以运行一个格子\n",
    "# 格子里改了信息之后要重新运行"
   ]
  },
  {
   "cell_type": "code",
   "execution_count": 52,
   "id": "bfb248a3",
   "metadata": {},
   "outputs": [
    {
     "name": "stdout",
     "output_type": "stream",
     "text": [
      "Candidate tiem select: 2809\n"
     ]
    }
   ],
   "source": [
    "# 这里现输入条件\n",
    "# next, shift + entry\n",
    "# 1. vfdb, plasmid, resfinder\n",
    "db_type = 'resfinder'\n",
    "# 2. '' or 'china' or 'europ' or 'usa' or 'others'\n",
    "country = ''\n",
    "\n",
    "\n",
    "# 改这里\n",
    "# 然后点上面的运行哦\n",
    "# 看懂了吗\n",
    "# 点一下我看看\n",
    "\n",
    "# 别管\n",
    "sample_to_gene = ''\n",
    "gene_set = ''\n",
    "if db_type == 'vfdb':\n",
    "    sample_to_gene = sample_to_vf_gene\n",
    "    if country == 'china':\n",
    "        gene_set = china_vf_gene_set\n",
    "    elif country == 'europ':\n",
    "        gene_set = eroup_vf_gene_set\n",
    "    elif country == 'others':\n",
    "        gene_set = other_vf_gene_set\n",
    "    elif country == 'usa':\n",
    "        gene_set = usa_vf_gene_set\n",
    "    elif country == '':\n",
    "        gene_set = total_vf_gene_set\n",
    "elif db_type == 'plasmid':\n",
    "    sample_to_gene = sample_to_pla_gene\n",
    "    if country == 'china':\n",
    "        gene_set = china_pla_gene_set\n",
    "    elif country == 'europ':\n",
    "        gene_set = eroup_pla_gene_set\n",
    "    elif country == 'usa':\n",
    "        gene_set = usa_pla_gene_set\n",
    "    elif country == 'others':\n",
    "        gene_set = other_pla_gene_set\n",
    "    elif country == '':\n",
    "        gene_set = total_pla_gene_set\n",
    "elif db_type == 'resfinder':\n",
    "    sample_to_gene = sample_to_res_gene\n",
    "    if country == 'china':\n",
    "        gene_set = china_res_gene_set\n",
    "    elif country == 'europ':\n",
    "        gene_set = eroup_res_gene_set\n",
    "    elif country == 'usa':\n",
    "        gene_set = usa_res_gene_set\n",
    "    elif country == 'others':\n",
    "        gene_set = other_res_gene_set\n",
    "    elif country == '':\n",
    "        gene_set = total_res_gene_set\n",
    "else:\n",
    "    print(f'{db_type} wrong.')\n",
    "    \n",
    "if country == 'china':\n",
    "    sample_to_time = sample_to_chain_year \n",
    "    total_sample_set = set(sample for sample, country in sample_to_country.items() if country == 'China')\n",
    "elif country == 'europ':\n",
    "    sample_to_time = sample_to_europ_year\n",
    "    total_sample_set = set(sample for sample, country in sample_to_country.items() if country == 'Europ')\n",
    "elif country == 'usa':\n",
    "    total_sample_set = set(sample for sample, country in sample_to_country.items() if country == 'USA')\n",
    "    sample_to_time = sample_to_usa_year\n",
    "elif country == 'others':\n",
    "    total_sample_set = set(sample for sample, country in sample_to_country.items() if country == 'Others')\n",
    "    sample_to_time = 'Others do not have years.'\n",
    "elif country == '':\n",
    "    sample_to_time = sample_to_year\n",
    "    total_sample_set = set(sample_to_time.keys())\n",
    "else:\n",
    "    print(f'wrong country: {country}')\n",
    "    \n",
    "\n",
    "# hear is the candidate year you can select.\n",
    "#print(f'Candidate tiem select: {set(sample_to_time.values())}')\n",
    "793\n",
    "print(f'Candidate tiem select: {len(set(total_sample_set))}')"
   ]
  },
  {
   "cell_type": "code",
   "execution_count": 53,
   "id": "28c80372",
   "metadata": {},
   "outputs": [
    {
     "name": "stdout",
     "output_type": "stream",
     "text": [
      "total: 2,809 samples.\n"
     ]
    }
   ],
   "source": [
    "\n",
    "print(f'total: {len(total_sample_set):,} samples.')"
   ]
  },
  {
   "cell_type": "code",
   "execution_count": null,
   "id": "86523f3f",
   "metadata": {},
   "outputs": [],
   "source": []
  },
  {
   "cell_type": "code",
   "execution_count": 54,
   "id": "976dded5",
   "metadata": {},
   "outputs": [
    {
     "name": "stdout",
     "output_type": "stream",
     "text": [
      "baps: {'10', '5', '20', '13', '1', '12', '16', '14', '15', '19', '17', '22', '3', '6', '8', '7', '23', '4', '2', '11', '21', '9', '18'}\n",
      "mlst: {'5387', '6166', '967', '65', '2211', '3641', '664', '2623', '170', '340', '660', '1333', '3766', '1686', '1307', '867', '3596', '3589', '418', '3591', '1411', '3838', '3721', '661', '6075', '1109', '309', '1545', '326', '872', '405', '449', '6242', '1419', '1123', '914', '3757', '33', '3697', '317', '464', '1727', '4550', '60', '3041', '6080', '656', '1552', '4571', '1271', '4581', '1213', '976', '3702', '45', '3782', '187', '461', '458', '3642', '983', '3592', '127', '25', '4881', '3778', '1079', '617', '4387', '422', '22', '193', '3', '36', '29', '2982', '659', '1876', '3684', '490', '258', '716', '2167', '715', '4872', '567', '1399', '562', '2760', '1199', '242', '111', '1084', '249', '565', '3758', '39', '3847', '109', '5731', '1065', '4', '3848', '1082', '1966', '3811', '3715', '155', '42', '1189', '21', '78', '4961', '806', '2217', '3593', '256', '530', '5837', '429', '62', '3541', '105', '3839', '3630', '587', '560', '3700', '753', '815', '432', '3817', '3709', '5214', '4081', '3712', '5450', '322', '2948', '378', '631', '3743', '372', '3020', '1689', '15', '3643', '412', '2668', 'new_alleles', '542', '3703', '7', '416', '91', '86', '2958', '71', '253', '2854', '525', '2096', '5447', '55', '3410', '493', 'new_ST', '423', '292', '3793', '700', '4566', '280', '433', '1076', '3585', '215', '834', '383', '874', '8', '5448', '2316', '420', '133', '353', '1128', '3698', '3995', '3018', '248', '377', '67', '2411', '441', '134', '1530', '251', '5817', '1412', '1536', '3619', '507', '162', '3176', '252', '3794', '1303', '742', '676', '23', '1999', '218', '3705', '3189', '337', '627', '3612', '348', '3613', '24', '491', '3777', '35', '394', '437', '828', '2358', '3631', '3775', '566', '54', '3363', '1948', '76', '2746', '37', '556', '941', '592', '584', '1309', '46', '1430', '3759', '14', '188', '374', '2497', '502', '34', '375', '1623', '4552', '228', '198', '3765', '231', '2004', '323', '199', '5135', '3708', '27', '628', '3819', '3856', '3764', '540', '607', '3132', '791', '1373', '3598', '1049', '163', '1779', '3784', '3380', '966', '4016', '3186', '1660', '551', '896', '44', '5989', '3760', '43', '1838', '561', '499', '152', '77', '515', '1425', '3770', '2121', '3640', '2425', '236', '2990', '3713', '2665', '4298', '150', '3779', '1125', '3812', '26', '3781', '5', '1263', '505', '3772', '290', '6085', '3599', '3783', '48', '151', '1017', '5166', '485', '380', '70', '93', '268', '1380', '90', '11', '1418', '1015', '3799', '3010', '399', '462', '3629', '2071', '128', '345', '3128', '442', '494', '610', '4569', '893', '495', '831', '3773', '1117', '3169', '3767', '392', '2555', '3751', '4568', '922', '740', '534', '1440', '1754', '234', '171', '2018', '381', '30', '1661', '3845', '3577', '5585', '3624', '504', '776', '4683', '2599', '307', '3628', '991', '298', '999', '20', '3843', '13', '629', '107', '4239', '1996', '16', '3846', '632', '2248', '3600', '2446', '281', '1269', '5918', '692', '1873', '3393', '219', '1037', '859', '1867', '5851', '4496', '2370', '273', '3771', '297', '1408', '964', '147', '1486', '727', '2585', '2310', '512', '1227', '1804', '2719', '2452', '2324', '873', '2667', '1963', '1266', '940', '-', '985', '82', '3787', '4873', '2502', '3164', '500', '3574', '1731', '2262', '870', '5370', '1383', '1454', '301', '4008', '1124', '3332', '278', '3768', '3172', '1235', '12', '552', '3633', '3037', '116', '1401', '2428', '1583', '5889', '327', '833', '1427', '200', '3810', '321', '2097', '611', '3744', '789', '336', '2549', '2458', '2237', '895', '359', '3831', '4247', '4867', '1245', '1', '2805', '1537', '395', '5754', '101', '3542', '17', '1554', '813', '6', '1741', '1658', '3572', '883', '299', '726', '1061', '158', '363', '1086', '1967', '38'}\n",
      "cg: set()\n",
      "mlstt: set()\n",
      "host: {'Homo', 'Blowfly', 'Cat', 'Swine', 'Dog', 'Chicken', 'Cow', 'Environment'}\n"
     ]
    }
   ],
   "source": [
    "# i can also help you to print the candidate fastbaps, mlst and host\n",
    "\n",
    "print(f'baps: {set(sample_to_baps.values())}')\n",
    "\n",
    "print(f'mlst: {set(sample_to_mlst.values())}')\n",
    "\n",
    "print(f'cg: {set(sample_to_cg.values())}')\n",
    "\n",
    "print(f'mlstt: {set(sample_to_mlstt.values())}')\n",
    "\n",
    "print(f'host: {set(sample_to_host.values())}')\n"
   ]
  },
  {
   "cell_type": "code",
   "execution_count": 55,
   "id": "911ce30e",
   "metadata": {
    "scrolled": true
   },
   "outputs": [
    {
     "name": "stdout",
     "output_type": "stream",
     "text": [
      "save sample: 2,809\n"
     ]
    }
   ],
   "source": [
    "# 3. 这四个条件要不就输入值 要不就为 ‘’ 注意中间不能有空号\n",
    "# typing the year, fastbaps, mlst and host you want.\n",
    "\n",
    "# thest four option can be empty.\n",
    "# wait, i need add non-homo selection for you.\n",
    "year = ''\n",
    "fastbaps = ''\n",
    "mlst = ''\n",
    "# upon host and 'non-homo'\n",
    "host = ''\n",
    "cg = 'others'\n",
    "mlstt = ''\n",
    " \n",
    "\n",
    "# 删除不符合条件的sample\n",
    "select_sample_set = total_sample_set.copy()\n",
    "for sample in total_sample_set:\n",
    "    \n",
    "    #print(sample)\n",
    "    \n",
    "    if year:\n",
    "        if sample_to_time[sample] != year and sample in select_sample_set:\n",
    "            select_sample_set.remove(sample)\n",
    "    if fastbaps:\n",
    "        if sample_to_baps[sample] != fastbaps and sample in select_sample_set:\n",
    "            select_sample_set.remove(sample)\n",
    "    if mlst:\n",
    "        if sample_to_mlst[sample] != mlst and sample in select_sample_set:\n",
    "            select_sample_set.remove(sample)\n",
    "    #if cg:\n",
    "        #if sample_to_cg[sample] != cg and sample in select_sample_set:\n",
    "           # select_sample_set.remove(sample)\n",
    "    #if mlstt:\n",
    "     #   if sample_to_mlstt[sample] != mlstt and sample in select_sample_set:\n",
    "     #       select_sample_set.remove(sample)\n",
    "    if host:\n",
    "        if host == 'non-homo':\n",
    "            if sample_to_host[sample].lower() not in {'cat', 'dog', 'environment', 'swine', 'cow', 'chicken', 'swine', 'blowfly'} and sample in select_sample_set:\n",
    "                select_sample_set.remove(sample)\n",
    "        else:\n",
    "            if sample_to_host[sample] != host and sample in select_sample_set:\n",
    "                select_sample_set.remove(sample)\n",
    "\n",
    "print(f'save sample: {len(select_sample_set):,}')"
   ]
  },
  {
   "cell_type": "code",
   "execution_count": 56,
   "id": "dd95a7b8",
   "metadata": {
    "scrolled": true
   },
   "outputs": [
    {
     "name": "stdout",
     "output_type": "stream",
     "text": [
      "Total gene number: 36035\n",
      "Total gene class: 478\n"
     ]
    }
   ],
   "source": [
    "# Gene Statistics\n",
    "total_selected_gene_list = []\n",
    "for sample in select_sample_set:\n",
    "    selected_gene_list = [gene for gene in sample_to_gene[sample] if gene in gene_set]\n",
    "    total_selected_gene_list.extend(selected_gene_list)\n",
    "print(f'Total gene number: {len(total_selected_gene_list)}')\n",
    "print(f'Total gene class: {len(set(total_selected_gene_list)):,}')"
   ]
  },
  {
   "cell_type": "code",
   "execution_count": 57,
   "id": "426eb246",
   "metadata": {},
   "outputs": [
    {
     "name": "stdout",
     "output_type": "stream",
     "text": [
      "['ARR-2', 'ARR-3', 'ARR-6', 'OqxA', 'OqxB', 'QnrA1_1', 'QnrB17_2', 'QnrB18_1', 'QnrB19_1', 'QnrB1_1', 'QnrB20_1', 'QnrB44_1', 'QnrB4_1', 'QnrB5_1', 'QnrS1_1', 'aac(3)-IIa', 'aac(3)-IIa_1', 'aac(3)-IIb_1', 'aac(3)-IId', 'aac(3)-IIe', 'aac(3)-IV', 'aac(3)-IVa_1', 'aac(3)-I_1', 'aac(3)-Ia', 'aac(3)-Ib', \"aac(3)-Ib-aac(6')-Ib\", 'aac(3)-VIa', \"aac(6')-33\", \"aac(6')-IIc\", \"aac(6')-Ia\", \"aac(6')-Ian\", \"aac(6')-Ib\", \"aac(6')-Ib-Hangzhou\", \"aac(6')-Ib-cr\", \"aac(6')-Ib3\", \"aac(6')-Il\", \"aac(6')-Im_1\", \"aac(6')-Ip\", \"aac(6')-Iq\", \"aac(6')-aph(2'')\", \"aac(6')Ib-cr\", 'aac_1', 'aadA1', 'aadA10_1', 'aadA12_1', 'aadA15', 'aadA16', 'aadA17_1', 'aadA1_1', 'aadA2', 'aadA22', 'aadA24', 'aadA2_2', 'aadA2b', 'aadA3', 'aadA5', 'aadA5_1', 'aadA6_1', 'aadA8b', 'aadB_1', \"ant(2'')-Ia\", \"ant(3'')-Ia\", \"ant(3'')-Ih-aac(6')-IId_1\", 'ant(6)-Ia', \"aph(2'')-Ib_1\", \"aph(3'')-Ib\", \"aph(3')-III\", \"aph(3')-IIa\", \"aph(3')-Ia\", \"aph(3')-Ia_1\", \"aph(3')-Ic_1\", \"aph(3')-VI\", \"aph(3')-VIa\", \"aph(3')-VIb\", \"aph(3')-XV\", \"aph(3')-XV_1\", 'aph(4)-Ia', 'aph(6)-Ic', 'aph(6)-Id', 'armA', 'blaACC-1_2', 'blaACT-16', 'blaCARB-2', 'blaCMY-2', 'blaCMY-4', 'blaCMY-6', 'blaCMY-8_1', 'blaCTX-M-1', 'blaCTX-M-100_1', 'blaCTX-M-101_1', 'blaCTX-M-103_1', 'blaCTX-M-104', 'blaCTX-M-114_1', 'blaCTX-M-123', 'blaCTX-M-12_1', 'blaCTX-M-139_1', 'blaCTX-M-14', 'blaCTX-M-14b', 'blaCTX-M-15', 'blaCTX-M-15_23', 'blaCTX-M-167', 'blaCTX-M-173', 'blaCTX-M-182', 'blaCTX-M-194', 'blaCTX-M-2', 'blaCTX-M-219', 'blaCTX-M-220', 'blaCTX-M-24', 'blaCTX-M-26_1', 'blaCTX-M-27', 'blaCTX-M-3', 'blaCTX-M-36', 'blaCTX-M-40', 'blaCTX-M-55', 'blaCTX-M-56', 'blaCTX-M-58', 'blaCTX-M-59_1', 'blaCTX-M-63', 'blaCTX-M-65', 'blaCTX-M-71', 'blaCTX-M-8', 'blaCTX-M-80', 'blaCTX-M-82', 'blaCTX-M-84', 'blaCTX-M-88', 'blaCTX-M-9', 'blaCTX-M-90', 'blaCTX-M-96_1', 'blaCTX-M-98', 'blaCTX-M-99', 'blaDHA-1', 'blaDHA-7', 'blaFOX-5', 'blaFOX-8_1', 'blaFRI-1', 'blaIMP-1', 'blaIMP-4', 'blaIMP-6_1', 'blaIMP-8', 'blaKPC-12', 'blaKPC-14_1', 'blaKPC-2', 'blaKPC-3', 'blaKPC-30', 'blaKPC-31', 'blaKPC-32', 'blaKPC-33', 'blaKPC-35', 'blaKPC-4', 'blaKPC-41', 'blaKPC-6', 'blaKPC-8', 'blaKPC-9', 'blaLAP-2', 'blaLEN16_1', 'blaLEN20', 'blaLEN24', 'blaLEN25', 'blaMOX-2_1', 'blaNDM-1', 'blaNDM-19', 'blaNDM-22', 'blaNDM-4', 'blaNDM-5', 'blaNDM-7', 'blaNDM-9', 'blaOKP-A-11', 'blaOKP-B-1', 'blaOKP-B-10', 'blaOKP-B-15', 'blaOKP-B-16_1', 'blaOKP-B-7', 'blaOXA-1', 'blaOXA-10', 'blaOXA-141_1', 'blaOXA-15_1', 'blaOXA-181', 'blaOXA-1_1', 'blaOXA-2', 'blaOXA-204', 'blaOXA-232', 'blaOXA-244', 'blaOXA-245', 'blaOXA-320', 'blaOXA-47_1', 'blaOXA-48', 'blaOXA-482', 'blaOXA-534', 'blaOXA-9', 'blaOXA-9_2', 'blaPER-1', 'blaSCO-1', 'blaSFO-1', 'blaSHV-1', 'blaSHV-100', 'blaSHV-101', 'blaSHV-102_2', 'blaSHV-103', 'blaSHV-104_1', 'blaSHV-105_1', 'blaSHV-106_1', 'blaSHV-107_1', 'blaSHV-108', 'blaSHV-11', 'blaSHV-110', 'blaSHV-111', 'blaSHV-112', 'blaSHV-113', 'blaSHV-114', 'blaSHV-115', 'blaSHV-119', 'blaSHV-12', 'blaSHV-121', 'blaSHV-129', 'blaSHV-132_1', 'blaSHV-133_1', 'blaSHV-135', 'blaSHV-140_1', 'blaSHV-141_1', 'blaSHV-143_1', 'blaSHV-144_1', 'blaSHV-148', 'blaSHV-14_1', 'blaSHV-153', 'blaSHV-154_1', 'blaSHV-155', 'blaSHV-157', 'blaSHV-158', 'blaSHV-159', 'blaSHV-160', 'blaSHV-164', 'blaSHV-168', 'blaSHV-172', 'blaSHV-178_1', 'blaSHV-182', 'blaSHV-185', 'blaSHV-186', 'blaSHV-187', 'blaSHV-189', 'blaSHV-190', 'blaSHV-194', 'blaSHV-196', 'blaSHV-1b-b', 'blaSHV-2', 'blaSHV-25', 'blaSHV-26', 'blaSHV-27', 'blaSHV-28', 'blaSHV-30', 'blaSHV-31_1', 'blaSHV-32', 'blaSHV-33', 'blaSHV-36', 'blaSHV-36_1', 'blaSHV-36_2', 'blaSHV-37', 'blaSHV-38', 'blaSHV-38_1', 'blaSHV-40', 'blaSHV-40_1', 'blaSHV-41', 'blaSHV-42', 'blaSHV-42_1', 'blaSHV-44', 'blaSHV-44_1', 'blaSHV-45', 'blaSHV-49', 'blaSHV-5', 'blaSHV-52_1', 'blaSHV-55', 'blaSHV-56', 'blaSHV-59', 'blaSHV-5_6', 'blaSHV-60', 'blaSHV-60_1', 'blaSHV-61', 'blaSHV-61_1', 'blaSHV-62', 'blaSHV-62_1', 'blaSHV-65', 'blaSHV-66', 'blaSHV-67', 'blaSHV-69', 'blaSHV-7', 'blaSHV-70', 'blaSHV-71', 'blaSHV-72', 'blaSHV-72_1', 'blaSHV-74', 'blaSHV-75', 'blaSHV-75_1', 'blaSHV-76', 'blaSHV-76_1', 'blaSHV-80', 'blaSHV-81', 'blaSHV-82', 'blaSHV-83_1', 'blaSHV-85', 'blaSHV-86_1', 'blaSHV-89', 'blaSHV-96', 'blaSHV-99', 'blaSHV-99_1', 'blaTEM-101_1', 'blaTEM-102_1', 'blaTEM-104_1', 'blaTEM-105_1', 'blaTEM-106_1', 'blaTEM-110_1', 'blaTEM-116', 'blaTEM-122_1', 'blaTEM-133_1', 'blaTEM-15', 'blaTEM-150_1', 'blaTEM-154_1', 'blaTEM-168_1', 'blaTEM-176', 'blaTEM-1A', 'blaTEM-1A_4', 'blaTEM-1B', 'blaTEM-1B_1', 'blaTEM-1C', 'blaTEM-1C_5', 'blaTEM-1D', 'blaTEM-1D_83', 'blaTEM-2', 'blaTEM-206', 'blaTEM-214', 'blaTEM-216', 'blaTEM-219', 'blaTEM-220', 'blaTEM-232', 'blaTEM-234', 'blaTEM-24_1', 'blaTEM-26', 'blaTEM-29', 'blaTEM-2_1', 'blaTEM-30', 'blaTEM-30_1', 'blaTEM-33', 'blaTEM-34', 'blaTEM-40', 'blaTEM-54', 'blaTEM-57', 'blaTEM-70', 'blaTEM-76', 'blaTEM-79', 'blaTEM-98', 'blaTEM-99', 'blaVEB-1', 'blaVIM-1', 'blaVIM-19', 'blaVIM-26_1', 'blaVIM-33_1', 'bleO', 'catA1', 'catA1_1', 'catA2_1', 'catA3', 'catA3_1', 'catB2', 'catB3', 'catB4_1', 'catB8', 'cmlA1', 'cml_1', 'dfrA1', 'dfrA12', 'dfrA12_1', 'dfrA14', 'dfrA14_1', 'dfrA15', 'dfrA16', 'dfrA17', 'dfrA18', 'dfrA19', 'dfrA21', 'dfrA22', 'dfrA23', 'dfrA25', 'dfrA27', 'dfrA29', 'dfrA30', 'dfrA32', 'dfrA5', 'dfrA7', 'dfrA8', 'dfrB1', 'dfrB3', 'dfrB4', 'dfrG', 'ere(A)', 'ere(B)', 'erm(42)', 'erm(B)', 'erm(C)_1', 'erm(G)', 'floR', 'formA', 'fosA', 'fosA3', 'fosA5', 'fosA6', 'fosA_10', 'fosA_13', 'fosA_3', 'fosA_5', 'fosA_7', 'fosA_9', 'lnu(B)', 'lnu(F)', 'lnu(G)', 'mcr-1.1', 'mcr-10', 'mcr-3.1', 'mcr-3.20', 'mcr-3.21', 'mcr-3.22', 'mcr-3.23', 'mcr-3.4', 'mcr-3.5', 'mcr-8', 'mef(A)_3', 'mef(B)', 'mph(A)', 'mph(A)_1', 'mph(A)_2', 'mph(B)', 'mph(E)', 'msr(E)', 'poxtA', 'qacE', 'qacL', 'qepA1', 'qepA2', 'qepA4', 'qnrA1', 'qnrB1', 'qnrB19', 'qnrB2', 'qnrB4', 'qnrB52', 'qnrB6', 'qnrB81', 'qnrB9', 'qnrB91', 'qnrD1', 'qnrE1', 'qnrS1', 'qnrS2', 'qnrVC1', 'rmtB', 'rmtB2_1', 'rmtC', 'rmtF', 'rmtG', 'rmtH_1', 'sitABCD', 'strA_1', 'strA_2', 'strA_4', 'strB_1', 'sul1', 'sul1_2', 'sul2', 'sul2_2', 'sul3', 'tet(A)', 'tet(A)_4', 'tet(B)', 'tet(C)', 'tet(D)', 'tet(D)_1', 'tet(G)', 'tet(J)', 'tet(M)', 'tet(U)_1', 'tet(X4)']\n"
     ]
    }
   ],
   "source": [
    "print(sorted(set(total_selected_gene_list)))"
   ]
  },
  {
   "cell_type": "code",
   "execution_count": null,
   "id": "eefdb25c",
   "metadata": {},
   "outputs": [],
   "source": []
  },
  {
   "cell_type": "code",
   "execution_count": 58,
   "id": "11c7af0c",
   "metadata": {},
   "outputs": [],
   "source": [
    "# 下面的代码麻烦你的猪手不要动"
   ]
  },
  {
   "cell_type": "code",
   "execution_count": 59,
   "id": "a147905f",
   "metadata": {},
   "outputs": [],
   "source": [
    "# 下面的代码麻烦你的猪手不要动"
   ]
  },
  {
   "cell_type": "code",
   "execution_count": 60,
   "id": "ae0865aa",
   "metadata": {},
   "outputs": [],
   "source": [
    "# 下面的代码麻烦你的猪手不要动"
   ]
  },
  {
   "cell_type": "code",
   "execution_count": 61,
   "id": "a4394878",
   "metadata": {},
   "outputs": [],
   "source": [
    "# 下面的代码麻烦你的猪手不要动"
   ]
  },
  {
   "cell_type": "code",
   "execution_count": 62,
   "id": "6e8b77af",
   "metadata": {},
   "outputs": [],
   "source": [
    "# 以下代码用于生产三个筛选大表格"
   ]
  },
  {
   "cell_type": "code",
   "execution_count": null,
   "id": "dbfea0d5",
   "metadata": {},
   "outputs": [],
   "source": []
  }
 ],
 "metadata": {
  "kernelspec": {
   "display_name": "Python 3 (ipykernel)",
   "language": "python",
   "name": "python3"
  },
  "language_info": {
   "codemirror_mode": {
    "name": "ipython",
    "version": 3
   },
   "file_extension": ".py",
   "mimetype": "text/x-python",
   "name": "python",
   "nbconvert_exporter": "python",
   "pygments_lexer": "ipython3",
   "version": "3.8.16"
  }
 },
 "nbformat": 4,
 "nbformat_minor": 5
}
